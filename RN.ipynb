{
 "cells": [
  {
   "cell_type": "code",
   "execution_count": null,
   "metadata": {},
   "outputs": [],
   "source": [
    "import os\n",
    "import h5py\n",
    "import matplotlib.pyplot as plt\n",
    "import numpy as np\n",
    "from mpl_toolkits.mplot3d import Axes3D\n",
    "import tensorflow as tf\n",
    "from tensorflow import keras\n",
    "import gc\n",
    "from sys import getsizeof\n",
    "import datetime\n",
    "import random"
   ]
  },
  {
   "cell_type": "code",
   "execution_count": null,
   "metadata": {},
   "outputs": [],
   "source": [
    "#base_labels = ['bathtub', 'bed', 'chair', 'desk', 'dresser', 'monitor', 'night_stand', 'sofa', 'table', 'toilet']\n",
    "base_labels = ['airplane', 'bathtub', 'bed', 'bench', 'bookshelf', 'bottle', 'bowl', 'car', 'chair', 'cone', \n",
    "                 'cup', 'curtain', 'desk', 'door', 'dresser', 'flower_pot', 'glass_box', 'guitar','keyboard', 'lamp',\n",
    "                 'laptop', 'mantel', 'monitor', 'night_stand', 'person', 'piano', 'plant']#, \n",
    "#                 'radio', 'range_hood', 'sink', 'sofa', 'stairs', 'stool', 'table', 'tent', 'toilet', 'tv_stand', \n",
    "#                 'vase', 'wardrobe', 'xbox']\n",
    "dim = 24\n",
    "no_classes = len(base_labels)\n",
    "\n",
    "training = np.zeros((0, dim, dim, dim))\n",
    "test = np.zeros((0, dim, dim, dim))\n",
    "training_labels = []\n",
    "test_labels = []\n",
    "\n",
    "for i, label in enumerate(base_labels): \n",
    "    file = './ModelNet40/output/' + label + '/output-train-' + str(dim) + '.h5'\n",
    "#    file = './ModelNet10/ModelNet10/' + label + '/filled-train.h5'\n",
    "    print('Procesing file ' + file + str(i))\n",
    "    print(os.path.getsize(file))\n",
    "    f = h5py.File(file, 'r')\n",
    "    training = np.concatenate((training, f['tensor']))\n",
    "    #print(tensor == 1)\n",
    "    #training = np.concatenate((training, f['tensor'] == 1 ))\n",
    "    print(\"trainin len \" + str(getsizeof(training)))\n",
    "    training_labels = np.concatenate((training_labels, np.full((len(f['tensor'])), i)))\n",
    "    f.close()\n",
    "    \n",
    "    #test_file = './ModelNet40/output/' + label + '/output-test-' + label + '-48.h5'\n",
    "    #print('Procesing file ' + test_file + str(i))\n",
    "    #print(os.path.getsize(test_file))\n",
    "    #f = h5py.File(test_file, 'r')\n",
    "    #print(len(f['tensor']))\n",
    "    #test = np.concatenate((test, f['tensor']))\n",
    "    #test_labels = np.concatenate((test_labels, np.full((len(f['tensor'])), i)))\n",
    "    #f.close()\n",
    "    gc.collect()"
   ]
  },
  {
   "cell_type": "code",
   "execution_count": null,
   "metadata": {},
   "outputs": [],
   "source": [
    "#model = keras.Sequential([\n",
    "#    keras.layers.Flatten(input_shape=(32, 32, 32)),\n",
    "#    keras.layers.Dense(128, activation='relu'),\n",
    "#    keras.layers.Dense(10, activation='softmax')\n",
    "#])\n",
    "# Create the model\n",
    "model = keras.Sequential()\n",
    "model.add(\n",
    "    keras.layers.Conv3D(\n",
    "        dim, \n",
    "        kernel_size=(3), \n",
    "        activation='relu', \n",
    "        kernel_initializer='he_uniform', \n",
    "        data_format=\"channels_last\",\n",
    "        input_shape=(dim, dim, dim, no_classes)\n",
    "    )\n",
    ")\n",
    "\n",
    "model.add(keras.layers.MaxPooling3D(pool_size=(2, 2, 2)))\n",
    "#model.add(keras.layers.Conv3D(128, kernel_size=(4, 4, 4), activation='relu', kernel_initializer='he_uniform'))\n",
    "#model.add(keras.layers.Conv3D(160, kernel_size=(4, 4, 4), activation='relu', kernel_initializer='he_uniform'))\n",
    "#model.add(keras.layers.Conv3D(48, kernel_size=(4, 4, 4), activation='relu', kernel_initializer='he_uniform'))\n",
    "#model.add(keras.layers.MaxPooling3D(pool_size=(2, 2, 2)))\n",
    "model.add(keras.layers.Flatten())\n",
    "#model.add(keras.layers.Dense(8, activation='relu', kernel_initializer='he_uniform'))\n",
    "model.add(keras.layers.Dense(no_classes, activation='softmax'))\n",
    "\n",
    "\n",
    "#model.compile(optimizer='adam',\n",
    "#              loss='sparse_categorical_crossentropy',\n",
    "#              metrics=['accuracy'])\n",
    "\n",
    "\n",
    "learning_rate = 0.001\n",
    "\n",
    "model.compile(loss=keras.losses.categorical_crossentropy,\n",
    "              optimizer=keras.optimizers.Adam(lr=learning_rate),\n",
    "              metrics=['accuracy'])\n",
    "print(model.summary())\n"
   ]
  },
  {
   "cell_type": "code",
   "execution_count": null,
   "metadata": {
    "scrolled": true
   },
   "outputs": [],
   "source": [
    "#model.fit(training, training_labels, epochs=200)\n",
    "\n",
    "batch_size = 50\n",
    "no_epochs = 10\n",
    "learning_rate = 0.001\n",
    "\n",
    "validation_split = 0.2\n",
    "verbosity = 1\n",
    "targets_train = keras.utils.to_categorical(training_labels)\n",
    "\n",
    "history = model.fit(\n",
    "                keras.utils.to_categorical(training, no_classes), \n",
    "                targets_train,\n",
    "                batch_size=batch_size,\n",
    "                epochs=no_epochs,\n",
    "                verbose=verbosity,\n",
    "                validation_split=validation_split,\n",
    "                callbacks=[tensorboard_callback])\n"
   ]
  },
  {
   "cell_type": "code",
   "execution_count": null,
   "metadata": {},
   "outputs": [],
   "source": [
    "test_loss, test_acc = model.evaluate(\n",
    "    keras.utils.to_categorical(test, no_classes),  \n",
    "    keras.utils.to_categorical(test_labels).astype(np.integer), verbose=2)\n",
    "print('\\nTest accuracy:', test_acc)"
   ]
  },
  {
   "cell_type": "code",
   "execution_count": null,
   "metadata": {},
   "outputs": [],
   "source": [
    "len(training[0])"
   ]
  },
  {
   "cell_type": "code",
   "execution_count": null,
   "metadata": {},
   "outputs": [],
   "source": [
    "model = keras.Sequential([\n",
    "    keras.layers.Flatten(input_shape=(dim, dim, dim)),\n",
    "    keras.layers.Dense(dim*2, activation='relu'),\n",
    "    keras.layers.Dense(dim, activation='relu'),\n",
    "    keras.layers.Dense(no_classes, activation='softmax')\n",
    "])\n",
    "model.compile(optimizer='adam',\n",
    "              loss='sparse_categorical_crossentropy',\n",
    "              metrics=['accuracy'])\n",
    "print(model.summary())\n"
   ]
  },
  {
   "cell_type": "code",
   "execution_count": null,
   "metadata": {},
   "outputs": [],
   "source": [
    "\n",
    "\n",
    "log_dir = \"logs/fit/\" + datetime.datetime.now().strftime(\"%Y%m%d-%H%M%S\")\n",
    "tensorboard_callback = tf.keras.callbacks.TensorBoard(log_dir=log_dir, histogram_freq=1)\n",
    "\n",
    "\n",
    "model.fit(training, \n",
    "          training_labels, \n",
    "          epochs=20,\n",
    "          callbacks=[tensorboard_callback])\n"
   ]
  },
  {
   "cell_type": "code",
   "execution_count": null,
   "metadata": {},
   "outputs": [],
   "source": [
    "test_loss, test_acc = model.evaluate(test,  test_labels, verbose=2)\n",
    "print('\\nTest accuracy:', test_acc)"
   ]
  },
  {
   "cell_type": "code",
   "execution_count": null,
   "metadata": {},
   "outputs": [],
   "source": [
    "index = random.randint(0, len(test))\n",
    "\n",
    "predicted_index = np.argmax(p[index])\n",
    "expected = base_labels[int(test_labels[index])]\n",
    "predicted = base_labels[predicted_index]\n",
    "draw(test[index], expected, predicted)\n",
    "index"
   ]
  },
  {
   "cell_type": "code",
   "execution_count": null,
   "metadata": {},
   "outputs": [],
   "source": [
    "for i, label in enumerate(base_labels): \n",
    "    \n",
    "    file = './ModelNet40/output/' + label + '/output-test-' + str(dim)+ '.h5'\n",
    "    #file = './ModelNet10/ModelNet10/' + label + '/filled-train.h5'\n",
    "    print('Procesing file ' + file + str(i))\n",
    "    print(os.path.getsize(file))\n",
    "    f = h5py.File(file, 'r')\n",
    "    print(len(f['tensor']))\n",
    "    test = np.concatenate((test, f['tensor']))\n",
    "    test_labels = np.concatenate((test_labels, np.full((len(f['tensor'])), i)))\n",
    "    f.close()\n",
    "    gc.collect()"
   ]
  },
  {
   "cell_type": "code",
   "execution_count": null,
   "metadata": {},
   "outputs": [],
   "source": [
    "per_row = 3\n",
    "num_figs = 6\n",
    "cols = num_figs // per_row\n",
    "fig, ax= plt.subplots(cols, per_row, subplot_kw={'projection': '3d'}, figsize=[15, 3 * cols])    \n",
    "\n",
    "for i in range(0,num_figs):\n",
    "    cube1 = (test[i+100][:,:,:] >= 1)\n",
    "    ax[i//per_row, i%per_row].voxels(cube1, facecolors=\"blue\")\n",
    "\n",
    "plt.show()"
   ]
  },
  {
   "cell_type": "code",
   "execution_count": null,
   "metadata": {},
   "outputs": [],
   "source": [
    "def draw(img, expected = '', predicted = ''):\n",
    "    fig = plt.figure(figsize=[10,10])\n",
    "    ax = fig.gca(projection='3d')\n",
    "    cube1 = (img[:,:,:] >= 1)\n",
    "    ax.voxels(cube1, facecolors=\"blue\")\n",
    "    plt.title('Expected: {}\\n Predicted: {}'.format(expected, predicted), y=-0.01)\n",
    "    plt.show()"
   ]
  },
  {
   "cell_type": "code",
   "execution_count": null,
   "metadata": {},
   "outputs": [],
   "source": []
  }
 ],
 "metadata": {
  "kernelspec": {
   "display_name": "Python 3",
   "language": "python",
   "name": "python3"
  },
  "language_info": {
   "codemirror_mode": {
    "name": "ipython",
    "version": 3
   },
   "file_extension": ".py",
   "mimetype": "text/x-python",
   "name": "python",
   "nbconvert_exporter": "python",
   "pygments_lexer": "ipython3",
   "version": "3.6.9"
  }
 },
 "nbformat": 4,
 "nbformat_minor": 2
}
