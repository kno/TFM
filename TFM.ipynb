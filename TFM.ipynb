{
 "cells": [
  {
   "cell_type": "code",
   "execution_count": 1,
   "metadata": {},
   "outputs": [],
   "source": [
    "import os\n",
    "import h5py\n",
    "import matplotlib.pyplot as plt\n",
    "import numpy as np\n",
    "from mpl_toolkits.mplot3d import Axes3D\n",
    "import tensorflow as tf\n",
    "from tensorflow import keras\n",
    "import gc\n",
    "from sys import getsizeof\n",
    "import datetime\n",
    "import random\n",
    "import math"
   ]
  },
  {
   "cell_type": "code",
   "execution_count": 2,
   "metadata": {},
   "outputs": [],
   "source": [
    "def load_data(res, source_labels, dataset='train', size=1., verbosity = False):\n",
    "    data = np.zeros((0, res, res, res))\n",
    "    labels = []\n",
    "    for i, label in enumerate(source_labels):\n",
    "        filename = './output/' + label + '/output-' + dataset + '-' + str(res) + '.h5'\n",
    "        file = h5py.File(filename, 'r')\n",
    "        tensor_len = len(file['tensor'])\n",
    "        picked_ids = random.sample(range(tensor_len), math.ceil(tensor_len * size))\n",
    "        if verbosity:\n",
    "            print(filename)\n",
    "            print('Picking ' + str(math.ceil(tensor_len * size)) + ' from ' + str(len(file['tensor'])) )\n",
    "        data = np.concatenate((data, [file['tensor'][index] for index in picked_ids]))\n",
    "        labels = np.concatenate((labels, np.full(len(picked_ids), i)))\n",
    "        file.close()\n",
    "        gc.collect()\n",
    "    return (data, labels)\n"
   ]
  },
  {
   "cell_type": "code",
   "execution_count": 3,
   "metadata": {},
   "outputs": [],
   "source": [
    "def prepare_model(res, num_classes, verbosity = 0):\n",
    "    model = keras.Sequential([\n",
    "        keras.layers.Conv3D(\n",
    "                res, \n",
    "                kernel_size=(3), \n",
    "                activation='relu', \n",
    "                kernel_initializer='he_uniform', \n",
    "                data_format=\"channels_last\",\n",
    "                input_shape=(res, res, res, num_classes)\n",
    "            ),        \n",
    "        keras.layers.MaxPooling3D(pool_size=(2, 2, 2)),\n",
    "        keras.layers.Flatten(),\n",
    "#        keras.layers.Dense(res*2, activation='relu'),\n",
    "        keras.layers.Dense(res, activation='relu'),\n",
    "        keras.layers.Dense(num_classes, activation='softmax')\n",
    "    ])\n",
    "\n",
    "    learning_rate = 0.0001\n",
    "\n",
    "    model.compile(optimizer=keras.optimizers.Adam(lr=learning_rate),\n",
    "                  loss='sparse_categorical_crossentropy',\n",
    "                  metrics=['accuracy'])\n",
    "    if (verbosity == 1):\n",
    "        print(model.summary())\n",
    "    return model\n",
    "#prepare_model(24, 10, 1)"
   ]
  },
  {
   "cell_type": "code",
   "execution_count": 4,
   "metadata": {},
   "outputs": [],
   "source": [
    "def train(model, training, training_labels, res, num_clases, verbosity = 0):\n",
    "    log_dir = \"logs/fit/\" + str(res) + '-' + datetime.datetime.now().strftime(\"%Y%m%d-%H%M%S\")\n",
    "    if verbosity == 1:\n",
    "        print(\"Log file \" + log_dir)\n",
    "    tensorboard_callback = tf.keras.callbacks.TensorBoard(log_dir=log_dir, histogram_freq=1)\n",
    "\n",
    "    validation_split = 0.1\n",
    "    epochs = 30\n",
    "    \n",
    "    model.fit(\n",
    "        keras.utils.to_categorical(training, num_clases), \n",
    "        training_labels, \n",
    "        epochs=epochs)\n",
    "    \n",
    "#    model.fit(training, \n",
    "#              training_labels, \n",
    "#              epochs=epochs,\n",
    "#              verbose=verbosity#,\n",
    "              #validation_split=validation_split,\n",
    "              #callbacks=[tensorboard_callback]\n",
    "#             )"
   ]
  },
  {
   "cell_type": "code",
   "execution_count": 5,
   "metadata": {},
   "outputs": [],
   "source": [
    "#base_labels = ['bathtub', 'bed', 'chair', 'desk', 'dresser', 'monitor', 'night_stand', 'sofa', 'table', 'toilet']\n",
    "all_labels = ['airplane', 'bathtub', 'bed', 'bench', 'bookshelf', 'bottle', 'bowl', 'car', 'chair', 'cone', \n",
    "                 'cup', 'curtain', 'desk', 'door', 'dresser', 'flower_pot', 'glass_box', 'guitar','keyboard', 'lamp',\n",
    "                 'laptop', 'mantel', 'monitor', 'night_stand', 'person', 'piano', 'plant', \n",
    "                 'radio', 'range_hood', 'sink', 'sofa', 'stairs', 'stool', 'table', 'tent', 'toilet', 'tv_stand', \n",
    "                 'vase', 'wardrobe', 'xbox']\n",
    "#num_classes = len(base_labels)"
   ]
  },
  {
   "cell_type": "code",
   "execution_count": null,
   "metadata": {},
   "outputs": [
    {
     "name": "stdout",
     "output_type": "stream",
     "text": [
      "Model: \"sequential\"\n",
      "_________________________________________________________________\n",
      "Layer (type)                 Output Shape              Param #   \n",
      "=================================================================\n",
      "conv3d (Conv3D)              (None, 22, 22, 22, 24)    6504      \n",
      "_________________________________________________________________\n",
      "max_pooling3d (MaxPooling3D) (None, 11, 11, 11, 24)    0         \n",
      "_________________________________________________________________\n",
      "flatten (Flatten)            (None, 31944)             0         \n",
      "_________________________________________________________________\n",
      "dense (Dense)                (None, 24)                766680    \n",
      "_________________________________________________________________\n",
      "dense_1 (Dense)              (None, 10)                250       \n",
      "=================================================================\n",
      "Total params: 773,434\n",
      "Trainable params: 773,434\n",
      "Non-trainable params: 0\n",
      "_________________________________________________________________\n",
      "None\n",
      "Epoch 1/30\n",
      "86/86 [==============================] - 98s 1s/step - loss: 1.9021 - accuracy: 0.2181\n",
      "Epoch 2/30\n",
      "86/86 [==============================] - 98s 1s/step - loss: 1.6237 - accuracy: 0.3624\n",
      "Epoch 3/30\n",
      "86/86 [==============================] - 98s 1s/step - loss: 1.4514 - accuracy: 0.5776\n",
      "Epoch 4/30\n",
      "86/86 [==============================] - 98s 1s/step - loss: 1.2362 - accuracy: 0.7227\n",
      "Epoch 5/30\n",
      "86/86 [==============================] - 98s 1s/step - loss: 1.0186 - accuracy: 0.7220\n",
      "Epoch 6/30\n",
      "86/86 [==============================] - 99s 1s/step - loss: 0.8284 - accuracy: 0.7552\n",
      "Epoch 7/30\n",
      "86/86 [==============================] - 99s 1s/step - loss: 0.7379 - accuracy: 0.7702\n",
      "Epoch 8/30\n",
      "86/86 [==============================] - 98s 1s/step - loss: 0.6301 - accuracy: 0.8038\n",
      "Epoch 9/30\n",
      "86/86 [==============================] - 97s 1s/step - loss: 0.4047 - accuracy: 0.9010\n",
      "Epoch 10/30\n",
      "86/86 [==============================] - 100s 1s/step - loss: 0.3248 - accuracy: 0.9156\n",
      "Epoch 11/30\n",
      "86/86 [==============================] - 98s 1s/step - loss: 0.2837 - accuracy: 0.9214\n",
      "Epoch 12/30\n",
      "86/86 [==============================] - 97s 1s/step - loss: 0.2513 - accuracy: 0.9269\n",
      "Epoch 13/30\n",
      "86/86 [==============================] - 97s 1s/step - loss: 0.2228 - accuracy: 0.9346\n",
      "Epoch 14/30\n",
      "86/86 [==============================] - 97s 1s/step - loss: 0.1970 - accuracy: 0.9485\n",
      "Epoch 15/30\n",
      "86/86 [==============================] - 98s 1s/step - loss: 0.1804 - accuracy: 0.9518\n",
      "Epoch 16/30\n",
      "86/86 [==============================] - 114s 1s/step - loss: 0.1660 - accuracy: 0.9591\n",
      "Epoch 17/30\n",
      "84/86 [============================>.] - ETA: 3s - loss: 0.1515 - accuracy: 0.9639"
     ]
    }
   ],
   "source": [
    "subclases = [10, 20, 30, 40]\n",
    "resolutions = [24] #, 32, 48]\n",
    "\n",
    "for j, num_classes in enumerate(subclases):\n",
    "    base_labels = all_labels[:num_classes]\n",
    "    for i,res in enumerate(resolutions):\n",
    "        training, training_labels = load_data(res, base_labels, 'train', .75, False)\n",
    "        model = prepare_model(res, num_classes, 1)\n",
    "        train(model, training, training_labels, res, num_classes, 1)\n",
    "        test, test_labels = load_data(res, base_labels, 'test', 1.0, False)\n",
    "        test_loss, test_acc = model.evaluate(\n",
    "            keras.utils.to_categorical(test, num_classes),  \n",
    "            test_labels, \n",
    "            verbose=2\n",
    "        )\n",
    "        print('\\nTest accuracy for ' + str(num_classes) + ' classes width res ' + str(res) + ':', test_acc)\n",
    "        gc.collect()"
   ]
  },
  {
   "cell_type": "code",
   "execution_count": null,
   "metadata": {},
   "outputs": [],
   "source": [
    "def draw(img, expected = '', predicted = ''):\n",
    "    fig = plt.figure(figsize=[10,10])\n",
    "    ax = fig.gca(projection='3d')\n",
    "    cube1 = (img[:,:,:] >= 1)\n",
    "    ax.voxels(cube1, facecolors=\"blue\")\n",
    "    plt.title('Expected: {}\\n Predicted: {}'.format(expected, predicted), y=-0.01)\n",
    "    plt.show()"
   ]
  },
  {
   "cell_type": "code",
   "execution_count": null,
   "metadata": {},
   "outputs": [],
   "source": [
    "if not len(test):\n",
    "    test, test_labels = load_data(dim, base_labels, 'test', 100)\n",
    "test_loss, test_acc = model.evaluate(test,  test_labels, verbose=2)\n",
    "p = model.predict(test)\n",
    "print('\\nTest accuracy:', test_acc)"
   ]
  },
  {
   "cell_type": "code",
   "execution_count": null,
   "metadata": {},
   "outputs": [],
   "source": [
    "index = random.randint(0, len(test))\n",
    "\n",
    "predicted_index = np.argmax(p[index])\n",
    "expected = base_labels[int(test_labels[index])]\n",
    "predicted = base_labels[predicted_index]\n",
    "draw(test[index], expected, predicted)\n",
    "index"
   ]
  },
  {
   "cell_type": "code",
   "execution_count": null,
   "metadata": {},
   "outputs": [],
   "source": []
  }
 ],
 "metadata": {
  "kernelspec": {
   "display_name": "Python 3",
   "language": "python",
   "name": "python3"
  },
  "language_info": {
   "codemirror_mode": {
    "name": "ipython",
    "version": 3
   },
   "file_extension": ".py",
   "mimetype": "text/x-python",
   "name": "python",
   "nbconvert_exporter": "python",
   "pygments_lexer": "ipython3",
   "version": "3.6.9"
  }
 },
 "nbformat": 4,
 "nbformat_minor": 2
}
