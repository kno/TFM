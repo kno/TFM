{
 "cells": [
  {
   "cell_type": "code",
   "execution_count": null,
   "metadata": {},
   "outputs": [],
   "source": [
    "!pip install sklearn"
   ]
  },
  {
   "cell_type": "code",
   "execution_count": 1,
   "metadata": {},
   "outputs": [],
   "source": [
    "import os\n",
    "import h5py\n",
    "import matplotlib.pyplot as plt\n",
    "import numpy as np\n",
    "from mpl_toolkits.mplot3d import Axes3D\n",
    "import tensorflow as tf\n",
    "from tensorflow import keras\n",
    "import gc\n",
    "from sys import getsizeof\n",
    "import datetime\n",
    "import random\n",
    "import math\n",
    "from sklearn.metrics import classification_report, confusion_matrix"
   ]
  },
  {
   "cell_type": "code",
   "execution_count": 2,
   "metadata": {},
   "outputs": [],
   "source": [
    "GB = 1\n",
    "gpus = tf.config.experimental.list_physical_devices('GPU')\n",
    "#The variable GB is the memory size you want to use.\n",
    "config = [tf.config.experimental.VirtualDeviceConfiguration(memory_limit=(1500*GB))]\n",
    "if gpus:\n",
    "  # Restrict TensorFlow to only allocate 1*X GB of memory on the first GPU\n",
    "  try:\n",
    "    tf.config.experimental.set_virtual_device_configuration(gpus[0], config)\n",
    "    logical_gpus = tf.config.experimental.list_logical_devices('GPU')\n",
    "    print(len(gpus), \"Physical GPUs,\", len(logical_gpus), \"Logical GPUs\")\n",
    "  except RuntimeError as e:\n",
    "    # Virtual devices must be set before GPUs have been initialized\n",
    "    print(e)\n",
    "np.set_printoptions(threshold=40*40)\n"
   ]
  },
  {
   "cell_type": "code",
   "execution_count": 3,
   "metadata": {},
   "outputs": [],
   "source": [
    "def load_data(res, source_labels, dataset='train', size=1., verbosity = False):\n",
    "    data = np.zeros((0, res, res, res))\n",
    "    labels = []\n",
    "    for i, label in enumerate(source_labels):\n",
    "        filename = './output/' + label + '/output-' + dataset + '-' + str(res) + '.h5'\n",
    "        file = h5py.File(filename, 'r')\n",
    "        tensor_len = len(file['tensor'])\n",
    "        picked_ids = random.sample(range(tensor_len), math.ceil(tensor_len * size))\n",
    "        if verbosity:\n",
    "            print(filename)\n",
    "            print('Picking ' + str(math.ceil(tensor_len * size)) + ' from ' + str(len(file['tensor'])) )\n",
    "        data = np.concatenate((data, [file['tensor'][index] for index in picked_ids]))\n",
    "        labels = np.concatenate((labels, np.full(len(picked_ids), i)))\n",
    "        file.close()\n",
    "        gc.collect()\n",
    "    rng_state = np.random.get_state()\n",
    "    np.random.shuffle(data)\n",
    "    np.random.set_state(rng_state)\n",
    "    np.random.shuffle(labels)\n",
    "    return (data, labels)\n"
   ]
  },
  {
   "cell_type": "code",
   "execution_count": null,
   "metadata": {},
   "outputs": [],
   "source": [
    "def prepare_model(res, num_classes, verbosity = 0):\n",
    "    model = keras.Sequential([\n",
    "        keras.layers.Flatten(input_shape=(res, res, res)),\n",
    "        keras.layers.Dense(res*2, activation='relu'),\n",
    "        keras.layers.Dense(res/2, activation='sigmoid'),\n",
    "        keras.layers.Dropout(.2, input_shape=(2,)),\n",
    "        keras.layers.Dense(num_classes, activation='softmax')\n",
    "    ])\n",
    "\n",
    "    learning_rate = 0.0001\n",
    "\n",
    "    model.compile(optimizer=keras.optimizers.Adam(lr=learning_rate),\n",
    "                  loss='sparse_categorical_crossentropy',\n",
    "                  metrics=['accuracy'])\n",
    "    if (verbosity == 1):\n",
    "        print(model.summary())\n",
    "    return model\n",
    "def prepare_data(data, num_classes):\n",
    "    return data\n",
    "model_type = 'dense'\n",
    "prepare_model(24, 20, 1)"
   ]
  },
  {
   "cell_type": "code",
   "execution_count": null,
   "metadata": {},
   "outputs": [],
   "source": [
    "def prepare_model(res, num_classes, verbosity = 0):\n",
    "    model = keras.Sequential([\n",
    "        keras.layers.Conv3D(\n",
    "                res, \n",
    "                kernel_size=(6),\n",
    "                strides=(2),\n",
    "                activation='relu', \n",
    "                kernel_initializer='he_uniform', \n",
    "                data_format=\"channels_last\",\n",
    "                input_shape=(res, res, res, 1)\n",
    "            ),        \n",
    "        keras.layers.Conv3D(\n",
    "                res, \n",
    "                kernel_size=(5),\n",
    "                strides=(2),\n",
    "                activation='relu', \n",
    "                kernel_initializer='he_uniform'\n",
    "            ),        \n",
    "        #keras.layers.Conv3D(\n",
    "        #        res, \n",
    "        #        kernel_size=(2),\n",
    "        #        activation='relu', \n",
    "        #        kernel_initializer='he_uniform'\n",
    "        #    ),        \n",
    "   \n",
    "        #keras.layers.MaxPooling3D(pool_size=(2, 2, 2)),\n",
    "        keras.layers.Flatten(),\n",
    "        keras.layers.Dense(res/2, activation='relu'),\n",
    "        keras.layers.Dense(num_classes, activation='softmax')\n",
    "    ])\n",
    "\n",
    "    learning_rate = 0.0001\n",
    "\n",
    "    model.compile(optimizer=keras.optimizers.Adam(lr=learning_rate),\n",
    "                  loss='sparse_categorical_crossentropy',\n",
    "                  metrics=['accuracy'])\n",
    "    if (verbosity == 1):\n",
    "        print(model.summary())\n",
    "    return model\n",
    "def prepare_data(data, num_classes, res):\n",
    "    return data.reshape(len(data), res, res, res, 1)\n",
    "model_type = 'conv3d'\n",
    "prepare_model(24, 10, 1)"
   ]
  },
  {
   "cell_type": "code",
   "execution_count": null,
   "metadata": {},
   "outputs": [],
   "source": [
    "def train(model, training, training_labels, res, num_classes, verbosity = 0):\n",
    "    log_dir = \"logs/fit/\" + str(res) + '-' + str(num_classes) + '-' + datetime.datetime.now().strftime(\"%Y%m%d-%H%M%S\")\n",
    "    if verbosity == 1:\n",
    "        print(\"Log file \" + log_dir)\n",
    "    tensorboard_callback = tf.keras.callbacks.TensorBoard(log_dir=log_dir, histogram_freq=1)\n",
    "\n",
    "    validation_split = 0.1\n",
    "    epochs = 2 * num_classes\n",
    "    \n",
    "#    model.fit(\n",
    "#        keras.utils.to_categorical(training, num_clases), \n",
    "#        training_labels, \n",
    "#        epochs=epochs)\n",
    "    \n",
    "    model.fit(\n",
    "        prepare_data(training, num_classes, res), \n",
    "        training_labels, \n",
    "        epochs=epochs,\n",
    "        verbose=verbosity,\n",
    "        callbacks=[tensorboard_callback],\n",
    "        validation_split=validation_split\n",
    "    )"
   ]
  },
  {
   "cell_type": "code",
   "execution_count": null,
   "metadata": {},
   "outputs": [],
   "source": [
    "#Confusion Matrix and Classification Report\n",
    "def print_confusion_matrix(test, test_labels, base_labels, res):\n",
    "    Y_pred = model.predict_generator(prepare_data(test, len(base_labels), res), len(test))\n",
    "    y_pred = np.argmax(Y_pred, axis=1)\n",
    "    print('Confusion Matrix')\n",
    "    print(confusion_matrix(test_labels, y_pred))\n",
    "    print('Classification Report')\n",
    "    print(classification_report(test_labels, y_pred, target_names=base_labels))"
   ]
  },
  {
   "cell_type": "code",
   "execution_count": 4,
   "metadata": {},
   "outputs": [],
   "source": [
    "#base_labels = ['bathtub', 'bed', 'chair', 'desk', 'dresser', 'monitor', 'night_stand', 'sofa', 'table', 'toilet']\n",
    "all_labels = ['airplane', 'bathtub', 'bed', 'bench', 'bookshelf', 'bottle', 'bowl', 'car', 'chair', 'cone', \n",
    "                 'cup', 'curtain', 'desk', 'door', 'dresser', 'flower_pot', 'glass_box', 'guitar','keyboard', 'lamp',\n",
    "                 'laptop', 'mantel', 'monitor', 'night_stand', 'person', 'piano', 'plant', \n",
    "                 'radio', 'range_hood', 'sink', 'sofa', 'stairs', 'stool', 'table', 'tent', 'toilet', 'tv_stand', \n",
    "                 'vase', 'wardrobe', 'xbox']\n",
    "#num_classes = len(base_labels)"
   ]
  },
  {
   "cell_type": "code",
   "execution_count": 6,
   "metadata": {},
   "outputs": [],
   "source": [
    "res = 24\n",
    "training, training_labels = load_data(res, all_labels, 'train', 1, False)\n"
   ]
  },
  {
   "cell_type": "code",
   "execution_count": 7,
   "metadata": {},
   "outputs": [
    {
     "data": {
      "text/plain": [
       "(24, 24, 24)"
      ]
     },
     "execution_count": 7,
     "metadata": {},
     "output_type": "execute_result"
    }
   ],
   "source": [
    "training[0].shape"
   ]
  },
  {
   "cell_type": "code",
   "execution_count": null,
   "metadata": {},
   "outputs": [],
   "source": [
    "subclases = [40]\n",
    "resolutions = [24]#, 32]#, 48]\n",
    "\n",
    "for j, num_classes in enumerate(subclases):\n",
    "    base_labels = all_labels[:num_classes]\n",
    "    for i,res in enumerate(resolutions):\n",
    "        training, training_labels = load_data(res, base_labels, 'train', 1, False)\n",
    "        model = prepare_model(res, num_classes, 1)\n",
    "        model_name = 'models/' + model_type + '-' + str(num_classes) + '-' + str(res) + '.h5'\n",
    "        train(model, training, training_labels, res, num_classes, 2)\n",
    "        model.save(model_name)\n",
    "        test, test_labels = load_data(res, base_labels, 'test', 1.0, False)\n",
    "        test_loss, test_acc = model.evaluate(\n",
    "            prepare_data(test, num_classes, res),  \n",
    "            test_labels, \n",
    "            verbose=2\n",
    "        )\n",
    "        print('\\nTest accuracy for ' + str(num_classes) + ' classes width res ' + str(res) + ':', test_acc)\n",
    "        print_confusion_matrix(test, test_labels, base_labels, res)\n",
    "        gc.collect()"
   ]
  },
  {
   "cell_type": "code",
   "execution_count": null,
   "metadata": {},
   "outputs": [],
   "source": [
    "base_labels = all_labels\n",
    "res=24\n",
    "training, training_labels = load_data(res, base_labels, 'train', 1, False)"
   ]
  },
  {
   "cell_type": "code",
   "execution_count": null,
   "metadata": {},
   "outputs": [],
   "source": [
    "for i in range(40):\n",
    "    print(str(i) + ':' + str(len(training_labels[training_labels == i])))\n"
   ]
  },
  {
   "cell_type": "code",
   "execution_count": null,
   "metadata": {},
   "outputs": [],
   "source": [
    "model = keras.models.load_model('models/dense-20-24')\n"
   ]
  },
  {
   "cell_type": "code",
   "execution_count": null,
   "metadata": {},
   "outputs": [],
   "source": [
    "num_classes = 20\n",
    "res = 24\n",
    "base_labels = all_labels[:num_classes]\n",
    "test, test_labels = load_data(res, base_labels, 'test', 1.0, False)\n"
   ]
  },
  {
   "cell_type": "code",
   "execution_count": null,
   "metadata": {},
   "outputs": [],
   "source": [
    "test_loss, test_acc = model.evaluate(\n",
    "            prepare_data(test, num_classes),  \n",
    "            test_labels, \n",
    "            verbose=2\n",
    "        )\n",
    "print('\\nTest accuracy for ' + str(num_classes) + ' classes width res ' + str(res) + ':', test_acc)\n",
    "print_confusion_matrix(test, test_labels, base_labels)"
   ]
  },
  {
   "cell_type": "code",
   "execution_count": null,
   "metadata": {},
   "outputs": [],
   "source": [
    "def draw(img, expected = '', predicted = ''):\n",
    "    fig = plt.figure(figsize=[10,10])\n",
    "    ax = fig.gca(projection='3d')\n",
    "    cube1 = (img[:,:,:] >= 1)\n",
    "    ax.voxels(cube1, facecolors=\"blue\")\n",
    "    plt.title('Expected: {}\\n Predicted: {}'.format(expected, predicted), y=-0.01)\n",
    "    plt.show()"
   ]
  },
  {
   "cell_type": "code",
   "execution_count": null,
   "metadata": {},
   "outputs": [],
   "source": [
    "if not len(test):\n",
    "    test, test_labels = load_data(dim, base_labels, 'test', 100)\n",
    "test_loss, test_acc = model.evaluate(test,  test_labels, verbose=2)\n",
    "p = model.predict(test)\n",
    "print('\\nTest accuracy:', test_acc)"
   ]
  },
  {
   "cell_type": "code",
   "execution_count": null,
   "metadata": {},
   "outputs": [],
   "source": [
    "index = random.randint(0, len(test))\n",
    "\n",
    "predicted_index = np.argmax(p[index])\n",
    "expected = base_labels[int(test_labels[index])]\n",
    "predicted = base_labels[predicted_index]\n",
    "draw(test[index], expected, predicted)\n",
    "index"
   ]
  },
  {
   "cell_type": "code",
   "execution_count": null,
   "metadata": {},
   "outputs": [],
   "source": []
  },
  {
   "cell_type": "code",
   "execution_count": null,
   "metadata": {},
   "outputs": [],
   "source": [
    "num_classes = 3\n",
    "base_labels = all_labels[:num_classes]\n",
    "num_classes = num_classes\n",
    "res = 24\n",
    "training, training_labels = load_data(res, base_labels, 'train', 1, True)\n"
   ]
  },
  {
   "cell_type": "code",
   "execution_count": null,
   "metadata": {},
   "outputs": [],
   "source": [
    "print(len(training))\n",
    "model = prepare_model(res, num_classes, 1)\n",
    "train(model, training, training_labels, res, num_classes, 0)\n"
   ]
  },
  {
   "cell_type": "code",
   "execution_count": null,
   "metadata": {},
   "outputs": [],
   "source": [
    "print(base_labels)\n",
    "test, test_labels = load_data(res, base_labels, 'test', 1.0, True)\n",
    "print(len(test))\n",
    "test_loss, test_acc = model.evaluate(\n",
    "    test,  \n",
    "    test_labels, \n",
    "    verbose=2\n",
    ")\n"
   ]
  },
  {
   "cell_type": "code",
   "execution_count": null,
   "metadata": {},
   "outputs": [],
   "source": []
  },
  {
   "cell_type": "code",
   "execution_count": null,
   "metadata": {},
   "outputs": [],
   "source": [
    "p = model.predict(test)\n",
    "for index in range(len(p)):\n",
    "    predicted_index = np.argmax(p[index])\n",
    "    expected = base_labels[int(test_labels[index])]\n",
    "    predicted = base_labels[predicted_index]\n",
    "    if expected != predicted:\n",
    "        draw(test[index], expected, predicted)\n"
   ]
  }
 ],
 "metadata": {
  "kernelspec": {
   "display_name": "Python 3",
   "language": "python",
   "name": "python3"
  },
  "language_info": {
   "codemirror_mode": {
    "name": "ipython",
    "version": 3
   },
   "file_extension": ".py",
   "mimetype": "text/x-python",
   "name": "python",
   "nbconvert_exporter": "python",
   "pygments_lexer": "ipython3",
   "version": "3.6.9"
  }
 },
 "nbformat": 4,
 "nbformat_minor": 2
}
