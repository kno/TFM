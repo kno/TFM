{
 "cells": [
  {
   "cell_type": "code",
   "execution_count": 6,
   "metadata": {},
   "outputs": [
    {
     "name": "stdout",
     "output_type": "stream",
     "text": [
      "Collecting sklearn\n",
      "  Using cached sklearn-0.0.tar.gz (1.1 kB)\n",
      "Collecting progressbar2\n",
      "  Using cached progressbar2-3.51.4-py2.py3-none-any.whl (25 kB)\n",
      "Collecting scikit-learn\n",
      "  Using cached scikit_learn-0.23.1-cp36-cp36m-manylinux1_x86_64.whl (6.8 MB)\n",
      "Collecting python-utils>=2.3.0\n",
      "  Using cached python_utils-2.4.0-py2.py3-none-any.whl (12 kB)\n",
      "Requirement already satisfied: six in /usr/local/lib/python3.6/dist-packages (from progressbar2) (1.14.0)\n",
      "Requirement already satisfied: numpy>=1.13.3 in /usr/local/lib/python3.6/dist-packages (from scikit-learn->sklearn) (1.18.2)\n",
      "Collecting joblib>=0.11\n",
      "  Using cached joblib-0.16.0-py3-none-any.whl (300 kB)\n",
      "Requirement already satisfied: scipy>=0.19.1 in /usr/local/lib/python3.6/dist-packages (from scikit-learn->sklearn) (1.4.1)\n",
      "Collecting threadpoolctl>=2.0.0\n",
      "  Downloading threadpoolctl-2.1.0-py3-none-any.whl (12 kB)\n",
      "Building wheels for collected packages: sklearn\n",
      "  Building wheel for sklearn (setup.py) ... \u001b[?25ldone\n",
      "\u001b[?25h  Created wheel for sklearn: filename=sklearn-0.0-py2.py3-none-any.whl size=2397 sha256=ecb04c6bfe749e8a46b062f660bae6c4e48c17d310ebe19d662eaf5bc1e6ad7e\n",
      "  Stored in directory: /root/.cache/pip/wheels/23/9d/42/5ec745cbbb17517000a53cecc49d6a865450d1f5cb16dc8a9c\n",
      "Successfully built sklearn\n",
      "Installing collected packages: joblib, threadpoolctl, scikit-learn, sklearn, python-utils, progressbar2\n",
      "Successfully installed joblib-0.16.0 progressbar2-3.51.4 python-utils-2.4.0 scikit-learn-0.23.1 sklearn-0.0 threadpoolctl-2.1.0\n",
      "\u001b[33mWARNING: You are using pip version 20.0.2; however, version 20.1.1 is available.\n",
      "You should consider upgrading via the '/usr/bin/python3 -m pip install --upgrade pip' command.\u001b[0m\n"
     ]
    }
   ],
   "source": [
    "!pip install sklearn progressbar2"
   ]
  },
  {
   "cell_type": "code",
   "execution_count": 7,
   "metadata": {},
   "outputs": [],
   "source": [
    "import os\n",
    "import h5py\n",
    "import matplotlib.pyplot as plt\n",
    "import numpy as np\n",
    "from mpl_toolkits.mplot3d import Axes3D\n",
    "import tensorflow as tf\n",
    "from tensorflow import keras\n",
    "import gc\n",
    "from sys import getsizeof\n",
    "import datetime\n",
    "import random\n",
    "import math\n",
    "from sklearn.metrics import classification_report, confusion_matrix\n",
    "import progressbar"
   ]
  },
  {
   "cell_type": "code",
   "execution_count": 8,
   "metadata": {},
   "outputs": [],
   "source": [
    "GB = 1\n",
    "gpus = tf.config.experimental.list_physical_devices('GPU')\n",
    "#The variable GB is the memory size you want to use.\n",
    "config = [tf.config.experimental.VirtualDeviceConfiguration(memory_limit=(1024*GB))]\n",
    "if gpus:\n",
    "  # Restrict TensorFlow to only allocate 1*X GB of memory on the first GPU\n",
    "  try:\n",
    "    tf.config.experimental.set_virtual_device_configuration(gpus[0], config)\n",
    "    logical_gpus = tf.config.experimental.list_logical_devices('GPU')\n",
    "    print(len(gpus), \"Physical GPUs,\", len(logical_gpus), \"Logical GPUs\")\n",
    "  except RuntimeError as e:\n",
    "    # Virtual devices must be set before GPUs have been initialized\n",
    "    print(e)\n",
    "np.set_printoptions(threshold=40*40)\n"
   ]
  },
  {
   "cell_type": "code",
   "execution_count": 9,
   "metadata": {},
   "outputs": [],
   "source": [
    "def load_data(res, source_labels, dataset='train', size=1., verbosity = False, shuffle = True):\n",
    "    data = np.zeros((0, res, res, res), dtype=int)\n",
    "    labels = np.empty(0, int)\n",
    "    for i, label in enumerate(source_labels):\n",
    "        filename = './output/' + label + '/output-' + dataset + '-' + str(res) + '.h5'\n",
    "        file = h5py.File(filename, 'r')\n",
    "        tensor_len = len(file['tensor'])\n",
    "        picked_ids = range(math.ceil(tensor_len * size) - 1)\n",
    "        if verbosity:\n",
    "            print(filename)\n",
    "            print(picked_ids)\n",
    "            print('Picking ' + str(math.ceil(tensor_len * size)) + ' from ' + str(len(file['tensor'])) )\n",
    "        data = np.concatenate((data, [file['tensor'][index] for index in picked_ids]))\n",
    "        labels = np.concatenate((labels, np.full(len(picked_ids), i, dtype=int)))\n",
    "        file.close()\n",
    "        gc.collect()\n",
    "    if shuffle:\n",
    "        if verbosity:\n",
    "            print(\"Shuffling data\")\n",
    "        rng_state = np.random.get_state()\n",
    "        np.random.shuffle(data)\n",
    "        np.random.set_state(rng_state)\n",
    "        np.random.shuffle(labels)\n",
    "    return (data, labels)\n",
    "\n"
   ]
  },
  {
   "cell_type": "code",
   "execution_count": null,
   "metadata": {},
   "outputs": [],
   "source": [
    "def prepare_model(res, num_classes, verbosity = 0):\n",
    "    model = keras.Sequential([\n",
    "        keras.layers.Flatten(input_shape=(res, res, res)),\n",
    "        keras.layers.Dense(res*2, activation='relu'),\n",
    "        keras.layers.Dense(res/2, activation='sigmoid'),\n",
    "        keras.layers.Dropout(.2, input_shape=(2,)),\n",
    "        keras.layers.Dense(40, activation='softmax')\n",
    "    ])\n",
    "\n",
    "    learning_rate = 0.0001\n",
    "\n",
    "    model.compile(optimizer=keras.optimizers.Adam(lr=learning_rate),\n",
    "                  loss='sparse_categorical_crossentropy',\n",
    "                  metrics=['accuracy'])\n",
    "    if (verbosity == 1):\n",
    "        print(model.summary())\n",
    "    return model\n",
    "def prepare_data(data, num_classes):\n",
    "    return data\n",
    "model_type = 'dense'\n",
    "prepare_model(24, 20, 1)"
   ]
  },
  {
   "cell_type": "code",
   "execution_count": 17,
   "metadata": {},
   "outputs": [
    {
     "name": "stdout",
     "output_type": "stream",
     "text": [
      "Model: \"sequential\"\n",
      "_________________________________________________________________\n",
      "Layer (type)                 Output Shape              Param #   \n",
      "=================================================================\n",
      "conv3d (Conv3D)              (None, 10, 10, 10, 24)    5208      \n",
      "_________________________________________________________________\n",
      "conv3d_1 (Conv3D)            (None, 3, 3, 3, 24)       72024     \n",
      "_________________________________________________________________\n",
      "conv3d_2 (Conv3D)            (None, 2, 2, 2, 24)       4632      \n",
      "_________________________________________________________________\n",
      "max_pooling3d (MaxPooling3D) (None, 1, 1, 1, 24)       0         \n",
      "_________________________________________________________________\n",
      "flatten (Flatten)            (None, 24)                0         \n",
      "_________________________________________________________________\n",
      "dense (Dense)                (None, 12)                300       \n",
      "_________________________________________________________________\n",
      "dense_1 (Dense)              (None, 10)                130       \n",
      "=================================================================\n",
      "Total params: 82,294\n",
      "Trainable params: 82,294\n",
      "Non-trainable params: 0\n",
      "_________________________________________________________________\n",
      "None\n"
     ]
    },
    {
     "data": {
      "text/plain": [
       "<tensorflow.python.keras.engine.sequential.Sequential at 0x7f2fd07d6d30>"
      ]
     },
     "execution_count": 17,
     "metadata": {},
     "output_type": "execute_result"
    }
   ],
   "source": [
    "def prepare_model(res, num_classes, verbosity = 0):\n",
    "    model = keras.Sequential([\n",
    "        keras.layers.Conv3D(\n",
    "                res, \n",
    "                kernel_size=(6),\n",
    "                strides=(2),\n",
    "                activation='relu', \n",
    "                kernel_initializer='he_uniform', \n",
    "                data_format=\"channels_last\",\n",
    "                input_shape=(res, res, res, 1)\n",
    "            ),        \n",
    "        keras.layers.Conv3D(\n",
    "                res, \n",
    "                kernel_size=(5),\n",
    "                strides=(2),\n",
    "                activation='relu', \n",
    "                kernel_initializer='he_uniform'\n",
    "            ),        \n",
    "        keras.layers.Conv3D(\n",
    "                res, \n",
    "                kernel_size=(2),\n",
    "                activation='relu', \n",
    "                kernel_initializer='he_uniform'\n",
    "            ),        \n",
    "   \n",
    "        keras.layers.MaxPooling3D(pool_size=(2, 2, 2)),\n",
    "        keras.layers.Flatten(),\n",
    "        keras.layers.Dense(res/2, activation='relu'),\n",
    "        keras.layers.Dense(num_classes, activation='softmax')\n",
    "    ])\n",
    "\n",
    "    learning_rate = 0.0001\n",
    "\n",
    "    model.compile(optimizer=keras.optimizers.Adam(lr=learning_rate),\n",
    "                  loss='sparse_categorical_crossentropy',\n",
    "                  metrics=['accuracy'])\n",
    "    if (verbosity == 1):\n",
    "        print(model.summary())\n",
    "    return model\n",
    "def prepare_data(data, num_classes, res):\n",
    "    return data.reshape(len(data), res, res, res, 1)\n",
    "model_type = 'conv3d'\n",
    "prepare_model(24, 10, 1)"
   ]
  },
  {
   "cell_type": "code",
   "execution_count": 4,
   "metadata": {},
   "outputs": [],
   "source": [
    "def train(model, training, training_labels, res, num_classes, verbosity = 0):\n",
    "    log_dir = \"logs/fit/\" + str(res) + '-' + str(num_classes) + '-' + datetime.datetime.now().strftime(\"%Y%m%d-%H%M%S\")\n",
    "    if verbosity == 1:\n",
    "        print(\"Log file \" + log_dir)\n",
    "    tensorboard_callback = tf.keras.callbacks.TensorBoard(log_dir=log_dir, histogram_freq=1)\n",
    "\n",
    "    validation_split = 0.1\n",
    "    epochs = 10 * num_classes\n",
    "    \n",
    "#    model.fit(\n",
    "#        keras.utils.to_categorical(training, num_clases), \n",
    "#        training_labels, \n",
    "#        epochs=epochs)\n",
    "    \n",
    "    model.fit(\n",
    "        prepare_data(training, num_classes), \n",
    "        training_labels, \n",
    "        epochs=epochs,\n",
    "        verbose=verbosity,\n",
    "        callbacks=[tensorboard_callback],\n",
    "        validation_split=validation_split\n",
    "    )"
   ]
  },
  {
   "cell_type": "code",
   "execution_count": 10,
   "metadata": {},
   "outputs": [],
   "source": [
    "#Confusion Matrix and Classification Report\n",
    "def print_confusion_matrix(test, test_labels, base_labels):\n",
    "    Y_pred = model.predict_generator(prepare_data(test, len(base_labels)), len(test))\n",
    "    y_pred = np.argmax(Y_pred, axis=1)\n",
    "    print('Confusion Matrix')\n",
    "    print(confusion_matrix(test_labels, y_pred))\n",
    "    print('Classification Report')\n",
    "    print(classification_report(test_labels, y_pred, target_names=base_labels))"
   ]
  },
  {
   "cell_type": "code",
   "execution_count": 11,
   "metadata": {},
   "outputs": [],
   "source": [
    "#base_labels = ['bathtub', 'bed', 'chair', 'desk', 'dresser', 'monitor', 'night_stand', 'sofa', 'table', 'toilet']\n",
    "all_labels = ['airplane', 'bathtub', 'bed', 'bench', 'bookshelf', 'bottle', 'bowl', 'car', 'chair', 'cone', \n",
    "                 'cup', 'curtain', 'desk', 'door', 'dresser', 'flower_pot', 'glass_box', 'guitar','keyboard', 'lamp',\n",
    "                 'laptop', 'mantel', 'monitor', 'night_stand', 'person', 'piano', 'plant', \n",
    "                 'radio', 'range_hood', 'sink', 'sofa', 'stairs', 'stool', 'table', 'tent', 'toilet', 'tv_stand', \n",
    "                 'vase', 'wardrobe', 'xbox']\n"
   ]
  },
  {
   "cell_type": "code",
   "execution_count": null,
   "metadata": {},
   "outputs": [],
   "source": [
    "subclases = [10, 20, 30, 40]\n",
    "resolutions = [24]#, 32]#, 48]\n",
    "num_classes = 2\n",
    "\n",
    "for i in range(len(all_labels)):\n",
    "    for j in range(i + 1, len(all_labels)):\n",
    "        base_labels = [all_labels[i]] + [all_labels[j]]\n",
    "        print(i, j, base_labels)\n",
    "        for n, res in enumerate(resolutions):\n",
    "            training, training_labels = load_data(res, base_labels, 'train', 1, False)\n",
    "            model = prepare_model(res, num_classes, 0)\n",
    "            model_name = 'models/' + model_type + '-' + all_labels[i] + '-' + all_labels[j] + '.h5'\n",
    "            train(model, training, training_labels, res, num_classes, 0)\n",
    "            model.save(model_name)\n",
    "            test, test_labels = load_data(res, base_labels, 'test', 1.0, False)\n",
    "            test_loss, test_acc = model.evaluate(\n",
    "                prepare_data(test, num_classes),  \n",
    "                test_labels, \n",
    "                verbose=2\n",
    "            )\n",
    "            print('\\nTest accuracy for ' + all_labels[i] + '-' + all_labels[j] + ' classes width res ' + str(res) + ':', test_acc)\n",
    "            print_confusion_matrix(test, test_labels, all_labels)\n",
    "            gc.collect()          \n"
   ]
  },
  {
   "cell_type": "code",
   "execution_count": 12,
   "metadata": {},
   "outputs": [],
   "source": [
    "res = 24\n",
    "model_type = 'conv3d'\n",
    "test, test_labels = load_data(res, all_labels, 'test', 1.0, False)\n"
   ]
  },
  {
   "cell_type": "code",
   "execution_count": 13,
   "metadata": {},
   "outputs": [],
   "source": [
    "def real_index(prediction, i, j):\n",
    "    return j if prediction else i\n",
    "\n",
    "def prediction_for(i, j, data):\n",
    "    model_name = 'models/' + model_type + '-' + all_labels[i] + '-' + all_labels[j] + '.h5'        \n",
    "    model = keras.models.load_model(model_name)\n",
    "    prediction = model.predict(prepare_data(data, 2, 24))\n",
    "    return [real_index(p, i, j) for p in list(map(np.argmax, prediction))]\n"
   ]
  },
  {
   "cell_type": "code",
   "execution_count": 29,
   "metadata": {},
   "outputs": [
    {
     "name": "stdout",
     "output_type": "stream",
     "text": [
      "0.0\n"
     ]
    }
   ],
   "source": [
    "print(test_labels[0])\n",
    "test[0].shape\n",
    "to_test = np.expand_dims(test[0], axis=0)\n",
    "#model.predict(to_test)"
   ]
  },
  {
   "cell_type": "code",
   "execution_count": null,
   "metadata": {},
   "outputs": [],
   "source": [
    "prediction = [x[:] for x in [[-1] * 40] * 40]\n",
    "for i in range(len(all_labels)):\n",
    "    for j in range(i + 1, len(all_labels)):\n",
    "        prediction[i][j] = prediction_for(i, j, to_test)\n",
    "        print(prediction[i][j])\n"
   ]
  },
  {
   "cell_type": "code",
   "execution_count": null,
   "metadata": {},
   "outputs": [],
   "source": [
    "i = 0\n",
    "j = 5\n",
    "\n",
    "model_name = 'models/' + model_type + '-' + all_labels[i] + '-' + all_labels[j] + '.h5'        \n",
    "model = keras.models.load_model(model_name)\n",
    "#print(model.summary())\n",
    "prediction = model.predict(test)\n",
    "prediction"
   ]
  },
  {
   "cell_type": "code",
   "execution_count": 14,
   "metadata": {},
   "outputs": [],
   "source": [
    "np.set_printoptions(threshold=40*40*40)\n",
    "\n",
    "def real_index(prediction, i, j):\n",
    "    return j if prediction else i\n",
    "\n",
    "def prediction_for(i, j, data):\n",
    "    model_name = 'models/' + model_type + '-' + all_labels[i] + '-' + all_labels[j] + '.h5'        \n",
    "    model = keras.models.load_model(model_name)\n",
    "    #print(model.summary())\n",
    "    prediction = model.predict(prepare_data(data, 2, 24))\n",
    "    return [real_index(p, i, j) for p in list(map(np.argmax, prediction))]\n",
    "\n"
   ]
  },
  {
   "cell_type": "code",
   "execution_count": 15,
   "metadata": {},
   "outputs": [],
   "source": [
    "tf.get_logger().setLevel('ERROR')"
   ]
  },
  {
   "cell_type": "markdown",
   "metadata": {},
   "source": [
    "# Calculate test prediction for each labels pair"
   ]
  },
  {
   "cell_type": "code",
   "execution_count": 18,
   "metadata": {},
   "outputs": [
    {
     "name": "stderr",
     "output_type": "stream",
     "text": [
      "N/A% (0 of 1) |                          | Elapsed Time: 0:00:00 ETA:  --:--:--"
     ]
    }
   ],
   "source": [
    "prediction = [x[:] for x in [[-1] * 40] * 40]\n",
    "for i in range(len(all_labels)):\n",
    "    bar2 = progressbar.ProgressBar(max_value=len(all_labels) - (i + 1))\n",
    "    for j in range(i + 1, len(all_labels)):\n",
    "        bar2.update(j - (i + 1))\n",
    "        prediction[i][j] = prediction_for(i, j, test)\n"
   ]
  },
  {
   "cell_type": "code",
   "execution_count": 19,
   "metadata": {},
   "outputs": [
    {
     "name": "stderr",
     "output_type": "stream",
     "text": [
      " 98% (2398 of 2428) |################### | Elapsed Time: 0:00:02 ETA:   0:00:00"
     ]
    }
   ],
   "source": [
    "p = [None] * len(test)\n",
    "bar = progressbar.ProgressBar(max_value=len(test))\n",
    "for e in range(len(test)):\n",
    "    bar.update(e) \n",
    "    p[e] = []\n",
    "    for i in range(40):\n",
    "        for j in range(40):\n",
    "            if prediction[i][j] == -1:\n",
    "                p[e].append(-1)\n",
    "            else:\n",
    "                p[e].append(prediction[i][j][e])"
   ]
  },
  {
   "cell_type": "code",
   "execution_count": 20,
   "metadata": {},
   "outputs": [
    {
     "data": {
      "text/plain": [
       "1821"
      ]
     },
     "execution_count": 20,
     "metadata": {},
     "output_type": "execute_result"
    }
   ],
   "source": [
    "def most_frequent(List): \n",
    "    return max(set(List), key = List.count) \n",
    "count = 0\n",
    "for index in range(len(test)):\n",
    "    real = test_labels[index]\n",
    "    predicted = most_frequent(list(filter(lambda a: a > -1, p[index])))\n",
    "    if int(real) == predicted: \n",
    "        count+=1\n",
    "count"
   ]
  },
  {
   "cell_type": "code",
   "execution_count": null,
   "metadata": {},
   "outputs": [],
   "source": [
    "print(all_labels[int(test_labels [0])])\n",
    "p[0]"
   ]
  },
  {
   "cell_type": "code",
   "execution_count": 39,
   "metadata": {},
   "outputs": [],
   "source": [
    "np.save('prediction-conv3d.txt', prediction)"
   ]
  },
  {
   "cell_type": "code",
   "execution_count": null,
   "metadata": {},
   "outputs": [],
   "source": [
    "prediction2 = np.load('prediction-conv3d.txt.npy', allow_pickle=True)"
   ]
  },
  {
   "cell_type": "code",
   "execution_count": null,
   "metadata": {},
   "outputs": [],
   "source": [
    "for i in range(len(all_labels)):\n",
    "    for j in range(i + 1, len(all_labels)):\n",
    "        model_name = 'models/' + model_type + '-' + all_labels[i] + '-' + all_labels[j] + '.h5'        \n",
    "        model = keras.models.load_model(model_name)\n",
    "        print(model.summary())\n"
   ]
  },
  {
   "cell_type": "code",
   "execution_count": null,
   "metadata": {},
   "outputs": [],
   "source": [
    "model = keras.models.load_model('models/dense-20-24')\n"
   ]
  },
  {
   "cell_type": "code",
   "execution_count": null,
   "metadata": {},
   "outputs": [],
   "source": [
    "num_classes = 20\n",
    "res = 24\n",
    "base_labels = all_labels[:num_classes]\n",
    "test, test_labels = load_data(res, base_labels, 'test', 1.0, False)\n"
   ]
  },
  {
   "cell_type": "code",
   "execution_count": null,
   "metadata": {},
   "outputs": [],
   "source": [
    "test_loss, test_acc = model.evaluate(\n",
    "            prepare_data(test, num_classes),  \n",
    "            test_labels, \n",
    "            verbose=2\n",
    "        )\n",
    "print('\\nTest accuracy for ' + str(num_classes) + ' classes width res ' + str(res) + ':', test_acc)\n",
    "print_confusion_matrix(test, test_labels, base_labels)"
   ]
  },
  {
   "cell_type": "code",
   "execution_count": null,
   "metadata": {},
   "outputs": [],
   "source": [
    "def draw(img, expected = '', predicted = ''):\n",
    "    fig = plt.figure(figsize=[10,10])\n",
    "    ax = fig.gca(projection='3d')\n",
    "    cube1 = (img[:,:,:] >= 1)\n",
    "    ax.voxels(cube1, facecolors=\"blue\")\n",
    "    plt.title('Expected: {}\\n Predicted: {}'.format(expected, predicted), y=-0.01)\n",
    "    plt.show()"
   ]
  },
  {
   "cell_type": "code",
   "execution_count": null,
   "metadata": {},
   "outputs": [],
   "source": [
    "if not len(test):\n",
    "    test, test_labels = load_data(dim, base_labels, 'test', 100)\n",
    "test_loss, test_acc = model.evaluate(test,  test_labels, verbose=2)\n",
    "p = model.predict(test)\n",
    "print('\\nTest accuracy:', test_acc)"
   ]
  },
  {
   "cell_type": "code",
   "execution_count": null,
   "metadata": {},
   "outputs": [],
   "source": [
    "index = random.randint(0, len(test))\n",
    "\n",
    "predicted_index = np.argmax(p[index])\n",
    "expected = base_labels[int(test_labels[index])]\n",
    "predicted = base_labels[predicted_index]\n",
    "draw(test[index], expected, predicted)\n",
    "index"
   ]
  },
  {
   "cell_type": "code",
   "execution_count": null,
   "metadata": {},
   "outputs": [],
   "source": []
  },
  {
   "cell_type": "code",
   "execution_count": null,
   "metadata": {},
   "outputs": [],
   "source": [
    "num_classes = 3\n",
    "base_labels = all_labels[:num_classes]\n",
    "num_classes = num_classes\n",
    "res = 24\n",
    "training, training_labels = load_data(res, base_labels, 'train', 1, True)\n"
   ]
  },
  {
   "cell_type": "code",
   "execution_count": null,
   "metadata": {},
   "outputs": [],
   "source": [
    "print(len(training))\n",
    "model = prepare_model(res, num_classes, 1)\n",
    "train(model, training, training_labels, res, num_classes, 0)\n"
   ]
  },
  {
   "cell_type": "code",
   "execution_count": null,
   "metadata": {},
   "outputs": [],
   "source": [
    "print(base_labels)\n",
    "test, test_labels = load_data(res, base_labels, 'test', 1.0, True)\n",
    "print(len(test))\n",
    "test_loss, test_acc = model.evaluate(\n",
    "    test,  \n",
    "    test_labels, \n",
    "    verbose=2\n",
    ")\n"
   ]
  },
  {
   "cell_type": "code",
   "execution_count": null,
   "metadata": {},
   "outputs": [],
   "source": []
  },
  {
   "cell_type": "code",
   "execution_count": null,
   "metadata": {},
   "outputs": [],
   "source": [
    "p = model.predict(test)\n",
    "for index in range(len(p)):\n",
    "    predicted_index = np.argmax(p[index])\n",
    "    expected = base_labels[int(test_labels[index])]\n",
    "    predicted = base_labels[predicted_index]\n",
    "    if expected != predicted:\n",
    "        draw(test[index], expected, predicted)\n"
   ]
  }
 ],
 "metadata": {
  "kernelspec": {
   "display_name": "Python 3",
   "language": "python",
   "name": "python3"
  },
  "language_info": {
   "codemirror_mode": {
    "name": "ipython",
    "version": 3
   },
   "file_extension": ".py",
   "mimetype": "text/x-python",
   "name": "python",
   "nbconvert_exporter": "python",
   "pygments_lexer": "ipython3",
   "version": "3.6.9"
  }
 },
 "nbformat": 4,
 "nbformat_minor": 2
}
