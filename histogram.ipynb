{
 "cells": [
  {
   "cell_type": "code",
   "execution_count": null,
   "metadata": {},
   "outputs": [],
   "source": [
    "!pip install ipynb sklearn progressbar2"
   ]
  },
  {
   "cell_type": "code",
   "execution_count": null,
   "metadata": {},
   "outputs": [],
   "source": [
    "from ipynb.fs.full.utils import *\n",
    "import numpy as np\n",
    "import matplotlib.pyplot as plt"
   ]
  },
  {
   "cell_type": "code",
   "execution_count": null,
   "metadata": {},
   "outputs": [],
   "source": [
    "training, training_labels = load_data(24, all_labels, 'train', 1, False, False)"
   ]
  },
  {
   "cell_type": "code",
   "execution_count": null,
   "metadata": {},
   "outputs": [],
   "source": [
    "res = 24\n",
    "def draw(imgs, labels):\n",
    "    fig, axs = plt.subplots(1, len(imgs), figsize=(15, 3), sharey=True, subplot_kw=dict(projection='3d'))\n",
    "    for i in range(len(imgs)):\n",
    "        cube1 = (imgs[i][:,:,:] >= 1)\n",
    "        axs[i].voxels(cube1, facecolors=\"blue\")\n",
    "        axs[i].set_title(labels[i])\n",
    "    plt.show()"
   ]
  },
  {
   "cell_type": "code",
   "execution_count": null,
   "metadata": {},
   "outputs": [],
   "source": [
    "for i in range(len(training)):\n",
    "    #Obtain the object oriented in 3 axis\n",
    "    obj = training[i]\n",
    "    objy = np.moveaxis(obj, [0, 1, 2], [1, 0, 2])\n",
    "    objz = np.moveaxis(obj, [0, 1, 2], [1, 2, 0])\n",
    "    #calculate the histogram in 3 axis\n",
    "    histx = np.zeros(res)\n",
    "    histy = np.zeros(res)\n",
    "    histz = np.zeros(res)\n",
    "    for i in range(res):\n",
    "        ox = obj[i].reshape([24*24])\n",
    "        histx[i] = ox[ox == 1].size\n",
    "\n",
    "        oy = objy[i].reshape([24*24])\n",
    "        histy[i] = oy[oy == 1].size\n",
    "\n",
    "        oz = objz[i].reshape([24*24])\n",
    "        histz[i] = oz[oz == 1].size\n",
    "    #Draw histogram in 3 axis\n",
    "    fig, axs = plt.subplots(1, 3, figsize=(15, 3), sharey=True)\n",
    "    axs[0].bar(range(res), histx)\n",
    "    axs[0].set_title('X')\n",
    "    axs[1].bar(range(res), histy)\n",
    "    axs[1].set_title('Y')\n",
    "    axs[2].bar(range(res), histz)\n",
    "    axs[2].set_title('Z')\n",
    "    plt.show()"
   ]
  },
  {
   "cell_type": "code",
   "execution_count": null,
   "metadata": {},
   "outputs": [],
   "source": [
    "histx = np.zeros(res)\n",
    "histy = np.zeros(res)\n",
    "histz = np.zeros(res)\n",
    "for i in range(res):\n",
    "    ox = obj[i].reshape([24*24])\n",
    "    histx[i] = ox[ox == 1].size\n",
    "    \n",
    "    oy = objy[i].reshape([24*24])\n",
    "    histy[i] = oy[oy == 1].size\n",
    "    \n",
    "    oz = objz[i].reshape([24*24])\n",
    "    histz[i] = oz[oz == 1].size\n"
   ]
  },
  {
   "cell_type": "code",
   "execution_count": null,
   "metadata": {},
   "outputs": [],
   "source": [
    "fig, axs = plt.subplots(1, 3, figsize=(15, 3), sharey=True)\n",
    "axs[0].bar(range(res), histx)\n",
    "axs[0].set_title('X')\n",
    "axs[1].bar(range(res), histy)\n",
    "axs[1].set_title('Y')\n",
    "axs[2].bar(range(res), histz)\n",
    "axs[2].set_title('Z')\n",
    "plt.show()"
   ]
  },
  {
   "cell_type": "code",
   "execution_count": null,
   "metadata": {},
   "outputs": [],
   "source": []
  }
 ],
 "metadata": {
  "kernelspec": {
   "display_name": "Python 3",
   "language": "python",
   "name": "python3"
  },
  "language_info": {
   "codemirror_mode": {
    "name": "ipython",
    "version": 3
   },
   "file_extension": ".py",
   "mimetype": "text/x-python",
   "name": "python",
   "nbconvert_exporter": "python",
   "pygments_lexer": "ipython3",
   "version": "3.6.9"
  }
 },
 "nbformat": 4,
 "nbformat_minor": 2
}
